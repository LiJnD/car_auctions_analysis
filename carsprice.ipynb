{
 "cells": [
  {
   "cell_type": "code",
   "execution_count": 10,
   "metadata": {},
   "outputs": [
    {
     "name": "stdout",
     "output_type": "stream",
     "text": [
      "Process completed. The 'Navitgation' entries have been removed from rows containing 'Volkswagen'.\n"
     ]
    }
   ],
   "source": [
    "import csv\n",
    "\n",
    "\n",
    "# Path to your CSV file\n",
    "input_csv_path = 'car_prices.csv'\n",
    "output_csv_path = 'car_prices_modified_by_Lincol.csv'\n",
    "\n",
    "# Open the input CSV file for reading and the output CSV file for writing\n",
    "with open(input_csv_path, mode='r', encoding='utf-8') as infile, open(output_csv_path, mode='w', encoding='utf-8', newline='') as outfile:\n",
    "    # Create a CSV reader and writer\n",
    "    reader = csv.reader(infile)\n",
    "    writer = csv.writer(outfile)\n",
    "    # Iterate over each row in the input CSV\n",
    "    for row in reader:\n",
    "        # Check if the row contains 'Volkswagen'\n",
    "        if 'Volkswagen' in str(row):\n",
    "            # Remove the 'Navigation' entry from the row\n",
    "            row = [cell for cell in row if cell != 'Navitgation']\n",
    "        # Write the modified row to the output CSV\n",
    "        writer.writerow(row)\n",
    " \n",
    "# Inform the user that the process is complete\n",
    "print(\"Process completed. The 'Navitgation' entries have been removed from rows containing 'Volkswagen'.\")\n"
   ]
  },
  {
   "cell_type": "code",
   "execution_count": 11,
   "metadata": {},
   "outputs": [
    {
     "data": {
      "text/plain": [
       "(558811, 16)"
      ]
     },
     "execution_count": 11,
     "metadata": {},
     "output_type": "execute_result"
    }
   ],
   "source": [
    "import pandas  as pd\n",
    "file_path = 'car_prices_modified_by_Lincol.csv'\n",
    "\n",
    "df = pd.read_csv(file_path, on_bad_lines='skip')\n",
    "df.head()\n",
    "df.shape"
   ]
  }
 ],
 "metadata": {
  "kernelspec": {
   "display_name": "dhgoodall_python311_20231010",
   "language": "python",
   "name": "python3"
  },
  "language_info": {
   "codemirror_mode": {
    "name": "ipython",
    "version": 3
   },
   "file_extension": ".py",
   "mimetype": "text/x-python",
   "name": "python",
   "nbconvert_exporter": "python",
   "pygments_lexer": "ipython3",
   "version": "3.11.4"
  }
 },
 "nbformat": 4,
 "nbformat_minor": 2
}
